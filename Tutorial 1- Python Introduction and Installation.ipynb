# this syntex seems to be of c++ more than python is it so ?

{
 "cells": [
  {
   "cell_type": "markdown",
   "id": "05e13a2a",
   "metadata": {},
   "source": [
    "# Tutorial 2- Python Comments, Indentation & Variables\n"
   ]
  },
  {
   "cell_type": "code",
   "execution_count": 7,
   "id": "3c2607b8",
   "metadata": {},
   "outputs": [
    {
     "name": "stdout",
     "output_type": "stream",
     "text": [
      "300\n"
     ]
    }
   ],
   "source": [
    "#This is code to add two number\n",
    "'''\n",
    "THis is multi code commment\n",
    "THis is multi code commment\n",
    "THis is multi code commment\n",
    "THis is multi code commment\n",
    "THis is multi code commment\n",
    "'''\n",
    "x = 100\n",
    "y = 200\n",
    "\n",
    "z = x + y\n",
    "\n",
    "print(z)"
   ]
  },
  {
   "cell_type": "markdown",
   "id": "1a74e047",
   "metadata": {},
   "source": [
    "1. A-Z , a-z, 0-9, _\n",
    "2. Varibale name can not start with digit"
   ]
  },
  {
   "cell_type": "code",
   "execution_count": 16,
   "id": "460ac180",
   "metadata": {},
   "outputs": [],
   "source": [
    "Name = \"Mike\""
   ]
  },
  {
   "cell_type": "code",
   "execution_count": 17,
   "id": "34c2f047",
   "metadata": {},
   "outputs": [
    {
     "name": "stdout",
     "output_type": "stream",
     "text": [
      "Mike\n"
     ]
    }
   ],
   "source": [
    "print(name)"
   ]
  },
  {
   "cell_type": "code",
   "execution_count": 19,
   "id": "cef578c7",
   "metadata": {},
   "outputs": [],
   "source": [
    "studentAge = 24"
   ]
  },
  {
   "cell_type": "code",
   "execution_count": 20,
   "id": "18d0aa34",
   "metadata": {},
   "outputs": [],
   "source": [
    "StudentAge = 30"
   ]
  },
  {
   "cell_type": "code",
   "execution_count": 21,
   "id": "818038f5",
   "metadata": {},
   "outputs": [],
   "source": [
    "studnet_age = 23"
   ]
  },
  {
   "cell_type": "code",
   "execution_count": 22,
   "id": "f97d394c",
   "metadata": {},
   "outputs": [
    {
     "name": "stdout",
     "output_type": "stream",
     "text": [
      "10\n",
      "10\n",
      "10\n"
     ]
    }
   ],
   "source": [
    "x = y =z = 10\n",
    "print(x)\n",
    "print(y)\n",
    "print(z)"
   ]
  },
  {
   "cell_type": "code",
   "execution_count": 23,
   "id": "b08a9197",
   "metadata": {},
   "outputs": [
    {
     "name": "stdout",
     "output_type": "stream",
     "text": [
      "10\n",
      "20\n",
      "30\n"
     ]
    }
   ],
   "source": [
    "x , y, z = 10,20,30\n",
    "print(x)\n",
    "print(y)\n",
    "print(z)\n"
   ]
  },
  {
   "cell_type": "code",
   "execution_count": 45,
   "id": "6cb5fa64",
   "metadata": {},
   "outputs": [
    {
     "name": "stdout",
     "output_type": "stream",
     "text": [
      "<class 'int'>\n",
      "<class 'str'>\n",
      "<class 'float'>\n"
     ]
    }
   ],
   "source": [
    "x = 10  #int\n",
    "name = \"Mike\"  #string\n",
    "price = 10.50  #float\n",
    "\n",
    "print(type(x))\n",
    "print(type(name))\n",
    "print(type(price))\n",
    "\n"
   ]
  },
  {
   "cell_type": "code",
   "execution_count": 46,
   "id": "8ad34776",
   "metadata": {},
   "outputs": [
    {
     "name": "stdout",
     "output_type": "stream",
     "text": [
      "<class 'float'>\n",
      "10\n"
     ]
    }
   ],
   "source": [
    "a = float(x)\n",
    "print(type(a))\n",
    "\n",
    "print( int(price))\n",
    "\n"
   ]
  },
  {
   "cell_type": "code",
   "execution_count": 50,
   "id": "9fc3374b",
   "metadata": {},
   "outputs": [
    {
     "name": "stdout",
     "output_type": "stream",
     "text": [
      "10\n"
     ]
    },
    {
     "ename": "NameError",
     "evalue": "name 'x' is not defined",
     "output_type": "error",
     "traceback": [
      "\u001b[1;31m---------------------------------------------------------------------------\u001b[0m",
      "\u001b[1;31mNameError\u001b[0m                                 Traceback (most recent call last)",
      "\u001b[1;32m~\\AppData\\Local\\Temp/ipykernel_16212/1617801309.py\u001b[0m in \u001b[0;36m<module>\u001b[1;34m\u001b[0m\n\u001b[0;32m      5\u001b[0m \u001b[1;33m\u001b[0m\u001b[0m\n\u001b[0;32m      6\u001b[0m \u001b[1;32mdel\u001b[0m \u001b[0mx\u001b[0m\u001b[1;33m\u001b[0m\u001b[1;33m\u001b[0m\u001b[0m\n\u001b[1;32m----> 7\u001b[1;33m \u001b[0mprint\u001b[0m\u001b[1;33m(\u001b[0m\u001b[0mx\u001b[0m\u001b[1;33m)\u001b[0m\u001b[1;33m\u001b[0m\u001b[1;33m\u001b[0m\u001b[0m\n\u001b[0m",
      "\u001b[1;31mNameError\u001b[0m: name 'x' is not defined"
     ]
    }
   ],
   "source": [
    "x = 10\n",
    "name ='Mike'\n",
    "#z = x + name\n",
    "print(x)\n",
    "\n",
    "del x\n",
    "print(x)"
   ]
  },
  {
   "cell_type": "code",
   "execution_count": null,
   "id": "71a9c8ac",
   "metadata": {},
   "outputs": [],
   "source": []
  }
 ],
 "metadata": {
  "kernelspec": {
   "display_name": "Python 3 (ipykernel)",
   "language": "python",
   "name": "python3"
  },
  "language_info": {
   "codemirror_mode": {
    "name": "ipython",
    "version": 3
   },
   "file_extension": ".py",
   "mimetype": "text/x-python",
   "name": "python",
   "nbconvert_exporter": "python",
   "pygments_lexer": "ipython3",
   "version": "3.9.7"
  }
 },
 "nbformat": 4,
 "nbformat_minor": 5
}
